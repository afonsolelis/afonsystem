{
 "cells": [
  {
   "cell_type": "code",
   "execution_count": 2,
   "metadata": {},
   "outputs": [],
   "source": [
    "import clickhouse_connect\n",
    "import duckdb\n",
    "import pandas as pd\n",
    "import os"
   ]
  },
  {
   "cell_type": "code",
   "execution_count": 3,
   "metadata": {},
   "outputs": [],
   "source": [
    "# Configurações ClickHouse\n",
    "ch_host = \"gowlim80fx.us-east1.gcp.clickhouse.cloud\"\n",
    "ch_port = 8443\n",
    "ch_username = \"default\"\n",
    "ch_password = \"JBhX.Pm6OJVO6\"\n",
    "ch_secure = True\n",
    "\n",
    "# Diretório onde os .duckdb serão salvos\n",
    "export_dir = \"duckdb_exports\"\n",
    "os.makedirs(export_dir, exist_ok=True)"
   ]
  },
  {
   "cell_type": "code",
   "execution_count": 5,
   "metadata": {},
   "outputs": [],
   "source": [
    "# Nome da base DuckDB a ser usada (você pode mudar se quiser outro arquivo)\n",
    "duckdb_file = os.path.join(export_dir, \"default.duckdb\")"
   ]
  },
  {
   "cell_type": "code",
   "execution_count": null,
   "metadata": {},
   "outputs": [
    {
     "name": "stdout",
     "output_type": "stream",
     "text": [
      "📦 Processando banco: INFORMATION_SCHEMA\n",
      "⚠️ Banco INFORMATION_SCHEMA não possui as tabelas desejadas.\n",
      "📦 Processando banco: default\n",
      "🔄 Exportando tabela: default.commits\n",
      "✅ Tabela commits salva no default.duckdb\n",
      "🔄 Exportando tabela: default.pull_requests\n",
      "✅ Tabela pull_requests salva no default.duckdb\n",
      "🏁 Exportação concluída. Arquivos DuckDB salvos em 'duckdb_exports/'\n"
     ]
    }
   ],
   "source": [
    "# Conectar ao ClickHouse\n",
    "client = clickhouse_connect.get_client(\n",
    "    host=ch_host,\n",
    "    port=ch_port,\n",
    "    username=ch_username,\n",
    "    password=ch_password,\n",
    "    secure=ch_secure\n",
    ")\n",
    "\n",
    "# Obter bancos de dados (ignorar internos)\n",
    "databases = client.query(\"SHOW DATABASES\").result_rows\n",
    "databases = [db[0] for db in databases if db[0] not in [\"system\", \"information_schema\"]]\n",
    "\n",
    "# Tabelas específicas para exportação\n",
    "tables_to_export = {\"commits\", \"pull_requests\"}\n",
    "\n",
    "for db in databases:\n",
    "    print(f\"📦 Processando banco: {db}\")\n",
    "    client.command(f\"USE {db}\")\n",
    "    tables = client.query(\"SHOW TABLES\").result_rows\n",
    "    tables = [t[0] for t in tables if t[0] in tables_to_export]  # Filtrar apenas as tabelas desejadas\n",
    "\n",
    "    if not tables:\n",
    "        print(f\"⚠️ Banco {db} não possui as tabelas desejadas.\")\n",
    "        continue\n",
    "\n",
    "    # Criar/conectar ao arquivo DuckDB\n",
    "    db_path = os.path.join(export_dir, f\"{db}.duckdb\")\n",
    "    con = duckdb.connect(db_path)\n",
    "\n",
    "    for table in tables:\n",
    "        print(f\"🔄 Exportando tabela: {db}.{table}\")\n",
    "        try:\n",
    "            df = client.query_df(f\"SELECT * FROM {table}\")\n",
    "            if df.empty:\n",
    "                print(f\"⚠️ Tabela {table} vazia.\")\n",
    "                continue\n",
    "\n",
    "            # Substituir tabela se já existir\n",
    "            con.execute(f\"DROP TABLE IF EXISTS {table}\")\n",
    "            con.register(\"df_temp\", df)\n",
    "            con.execute(f\"CREATE TABLE {table} AS SELECT * FROM df_temp\")\n",
    "            con.unregister(\"df_temp\")\n",
    "\n",
    "            print(f\"✅ Tabela {table} salva no {db}.duckdb\")\n",
    "        except Exception as e:\n",
    "            print(f\"❌ Erro ao exportar {table}: {e}\")\n",
    "\n",
    "    con.close()\n",
    "\n",
    "print(\"🏁 Exportação concluída. Arquivos DuckDB salvos em 'duckdb_exports/'\")"
   ]
  },
  {
   "cell_type": "code",
   "execution_count": 7,
   "metadata": {},
   "outputs": [
    {
     "name": "stdout",
     "output_type": "stream",
     "text": [
      "🔍 Verificando banco: INFORMATION_SCHEMA\n",
      "🔍 Verificando banco: default\n",
      "✅ Tabela 'repositories' encontrada em: default\n",
      "💾 Tabela 'repositories' exportada com sucesso para duckdb_exports/default.duckdb\n",
      "🏁 Finalizado.\n"
     ]
    }
   ],
   "source": [
    "# Tabela alvo\n",
    "target_table = \"repositories\"\n",
    "\n",
    "# Conectar ao ClickHouse\n",
    "client = clickhouse_connect.get_client(\n",
    "    host=ch_host,\n",
    "    port=ch_port,\n",
    "    username=ch_username,\n",
    "    password=ch_password,\n",
    "    secure=ch_secure\n",
    ")\n",
    "\n",
    "# Procurar a tabela repositories entre os bancos disponíveis\n",
    "databases = client.query(\"SHOW DATABASES\").result_rows\n",
    "databases = [db[0] for db in databases if db[0] not in [\"system\", \"information_schema\"]]\n",
    "\n",
    "found = False\n",
    "\n",
    "for db in databases:\n",
    "    print(f\"🔍 Verificando banco: {db}\")\n",
    "    client.command(f\"USE {db}\")\n",
    "    tables = client.query(\"SHOW TABLES\").result_rows\n",
    "    table_names = [t[0] for t in tables]\n",
    "    \n",
    "    if target_table in table_names:\n",
    "        print(f\"✅ Tabela '{target_table}' encontrada em: {db}\")\n",
    "        found = True\n",
    "        df = client.query_df(f\"SELECT * FROM {target_table}\")\n",
    "        \n",
    "        if df.empty:\n",
    "            print(\"⚠️ A tabela 'repositories' está vazia.\")\n",
    "            break\n",
    "\n",
    "        con = duckdb.connect(duckdb_file)\n",
    "        con.execute(f\"DROP TABLE IF EXISTS {target_table}\")\n",
    "        con.register(\"df_temp\", df)\n",
    "        con.execute(f\"CREATE TABLE {target_table} AS SELECT * FROM df_temp\")\n",
    "        con.unregister(\"df_temp\")\n",
    "        con.close()\n",
    "\n",
    "        print(f\"💾 Tabela '{target_table}' exportada com sucesso para {duckdb_file}\")\n",
    "        break\n",
    "\n",
    "if not found:\n",
    "    print(\"❌ Tabela 'repositories' não encontrada em nenhum banco.\")\n",
    "\n",
    "print(\"🏁 Finalizado.\")"
   ]
  }
 ],
 "metadata": {
  "kernelspec": {
   "display_name": "Python 3",
   "language": "python",
   "name": "python3"
  },
  "language_info": {
   "codemirror_mode": {
    "name": "ipython",
    "version": 3
   },
   "file_extension": ".py",
   "mimetype": "text/x-python",
   "name": "python",
   "nbconvert_exporter": "python",
   "pygments_lexer": "ipython3",
   "version": "3.13.1"
  }
 },
 "nbformat": 4,
 "nbformat_minor": 2
}
